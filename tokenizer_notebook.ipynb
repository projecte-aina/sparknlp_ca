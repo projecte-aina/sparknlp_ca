{
 "cells": [
  {
   "cell_type": "code",
   "execution_count": 58,
   "id": "3c2201df",
   "metadata": {},
   "outputs": [],
   "source": [
    "##https://nlp.johnsnowlabs.com/api/python/reference/autosummary/sparknlp.annotator.Tokenizer.html\n",
    "import sparknlp\n",
    "from sparknlp.base import *\n",
    "from sparknlp.annotator import *\n",
    "from pyspark.ml import Pipeline\n",
    "spark = sparknlp.start()"
   ]
  },
  {
   "cell_type": "code",
   "execution_count": 59,
   "id": "80662c7a",
   "metadata": {},
   "outputs": [],
   "source": [
    "documentAssembler = DocumentAssembler().setInputCol(\"text\").setOutputCol(\"document\")"
   ]
  },
  {
   "cell_type": "code",
   "execution_count": 60,
   "id": "daf5fd31",
   "metadata": {},
   "outputs": [],
   "source": [
    "ex_list = [\"aprox.\",\"pàg.\",\"p.ex.\",\"gen.\",\"feb.\",\"abr.\",\"jul.\",\"set.\",\"oct.\",\"nov.\",\"des.\",\"dr.\",\"dra.\",\"sr.\",\"sra.\",\"srta.\",\"núm.\",\"st.\",\"sta.\",\"pl.\",\"etc.\", \"ex.\"]\n",
    "#,\"’\", '”', \"(\", \"[\", \"l'\",\"l’\",\"s'\",\"s’\",\"d’\",\"d'\",\"m’\",\"m'\",\"L'\",\"L’\",\"S’\",\"S'\",\"N’\",\"N'\",\"M’\",\"M'\"]\n",
    "ex_list_all = []\n",
    "ex_list_all.extend(ex_list)\n",
    "ex_list_all.extend([x[0].upper() + x[1:] for x in ex_list])\n",
    "ex_list_all.extend([x.upper() for x in ex_list])\n"
   ]
  },
  {
   "cell_type": "code",
   "execution_count": 433,
   "id": "2a3fc7af",
   "metadata": {},
   "outputs": [],
   "source": [
    "text = \"Anem-nos-en, dones d'aigua del delta. ALS adéus.\"\n",
    "data = spark.createDataFrame([[text]]).toDF(\"text\")"
   ]
  },
  {
   "cell_type": "code",
   "execution_count": 434,
   "id": "f2dfc5a2",
   "metadata": {},
   "outputs": [],
   "source": [
    "tokenizer = Tokenizer().setInputCols([\"document\"]).setOutputCol(\"token\") \\\n",
    "    .setSuffixPattern(\"(\\w*)(-la|-lo|-les|-los|-hi|-en|-ho|'n|'l|'ls|'m|'t|hi|ho|-LA|-LO|-LES|-LOS|-HI|-EN|-HO|'N|'L|'LS|'M|'T|HI|HO|)(.|,|;|:|!|\\?|\\)|\\\"|)\\z\") \\\n",
    "    .setInfixPatterns([\"^(d'|l'|D'|L')(\\w*)\", \"^(d|p|D|P)(el|els|EL|ELS)?$\", \"^(a|A)(l|ls|L|LS)?$\", \"(\\w*)(-la|-lo|-les|-los|-nos|-vos|-te|-hi|-en|-ho|-n'|-l'|'ls|-m'|-t'|-hi|-ho|-LA|-LO|-LES|-LOS|-NOS|-VOS|-TE|-HI|-EN|-HO|-N'|-L'|'LS|-M'|-T'|-HI|-HO|)\"]) \\\n",
    "    .setContextChars(['.', ',', ';', ':', '!', '?', '*', '-', '(', ')', '\"', \"'\"]) \\\n",
    "    .setExceptions(ex_list_all).fit(data)"
   ]
  },
  {
   "cell_type": "code",
   "execution_count": 435,
   "id": "a6f8e221",
   "metadata": {},
   "outputs": [],
   "source": [
    "pipeline = Pipeline().setStages([documentAssembler, tokenizer]).fit(data)"
   ]
  },
  {
   "cell_type": "code",
   "execution_count": 436,
   "id": "6cbb7607",
   "metadata": {},
   "outputs": [],
   "source": [
    "result = pipeline.transform(data)"
   ]
  },
  {
   "cell_type": "code",
   "execution_count": 437,
   "id": "02b0767d",
   "metadata": {
    "scrolled": true
   },
   "outputs": [
    {
     "name": "stdout",
     "output_type": "stream",
     "text": [
      "+----------------------------------------------------------------------+\n",
      "|result                                                                |\n",
      "+----------------------------------------------------------------------+\n",
      "|[Anem, -nos, -en, ,, dones, d', aigua, d, el, delta, ., A, LS, adéus.]|\n",
      "+----------------------------------------------------------------------+\n",
      "\n"
     ]
    }
   ],
   "source": [
    "result.selectExpr(\"token.result\").show(truncate=False)"
   ]
  },
  {
   "cell_type": "code",
   "execution_count": 282,
   "id": "46bf87c7",
   "metadata": {},
   "outputs": [],
   "source": []
  },
  {
   "cell_type": "code",
   "execution_count": null,
   "id": "0a0497ad",
   "metadata": {},
   "outputs": [],
   "source": []
  },
  {
   "cell_type": "code",
   "execution_count": 231,
   "id": "4c9890b4",
   "metadata": {},
   "outputs": [],
   "source": [
    "text = \"Baixant de la font del gat pel gat als gats al delta.\"\n",
    "data = spark.createDataFrame([[text]]).toDF(\"text\")"
   ]
  },
  {
   "cell_type": "code",
   "execution_count": 232,
   "id": "d8377e43",
   "metadata": {},
   "outputs": [],
   "source": [
    "tokenizer = Tokenizer().setInputCols([\"document\"]).setOutputCol(\"token\") \\\n",
    "    .setInfixPatterns([\"^(d|p)(el|els)?$\", \"^(a)(l|ls)?$\"]) \\\n",
    "    .setExceptions(ex_list_all)"
   ]
  },
  {
   "cell_type": "code",
   "execution_count": 283,
   "id": "483ed8b9",
   "metadata": {},
   "outputs": [
    {
     "name": "stdout",
     "output_type": "stream",
     "text": [
      "+------------------------------------------------------------------------------------------------------------------------------------------------------------------------+\n",
      "|result                                                                                                                                                                  |\n",
      "+------------------------------------------------------------------------------------------------------------------------------------------------------------------------+\n",
      "|[Dona-n'hi, tres, ., Dona'n, tres, ., Canta-les, Canta-les, ., Cana'ls, cançons, ., Anem-nos-en, d'aquí, ., Baixant, dels, camins, pels, gats, de, la, sra., Rovirda, .]|\n",
      "+------------------------------------------------------------------------------------------------------------------------------------------------------------------------+\n",
      "\n"
     ]
    }
   ],
   "source": [
    "pipeline = Pipeline().setStages([documentAssembler, tokenizer]).fit(data)\n",
    "result = pipeline.transform(data)\n",
    "result.selectExpr(\"token.result\").show(truncate=False)"
   ]
  },
  {
   "cell_type": "code",
   "execution_count": 19,
   "id": "12082495",
   "metadata": {},
   "outputs": [],
   "source": [
    "tokenizer = Tokenizer().setInputCols([\"document\"]).setOutputCol(\"token\") \\\n",
    "    .setSuffixPattern(\"([^\\s\\w]?)('hi|ls|'l|'ns|'t|'m|'n|-n|-en|-les|-la|-lo|-li|-los|-me|-nos|-te|-vos|-se|-hi|-ne|-ho)\\z\") \\\n",
    "    .setExceptions(ex_list_all)#.fit(data)\n",
    "#tokenizer.addInfixPattern(\"([^\\s\\w]?)(-nos)\")"
   ]
  },
  {
   "cell_type": "code",
   "execution_count": 20,
   "id": "a39dbef1",
   "metadata": {},
   "outputs": [
    {
     "name": "stdout",
     "output_type": "stream",
     "text": [
      "+------------------------------------------------------------------------------------------------------------+\n",
      "|result                                                                                                      |\n",
      "+------------------------------------------------------------------------------------------------------------+\n",
      "|[Dona-n, 'hi, tres., Dona, 'n, tres., Canta, -les, Canta-les., Cana, ', ls, cançons., Anem-nos, -en, d'aquí]|\n",
      "+------------------------------------------------------------------------------------------------------------+\n",
      "\n"
     ]
    }
   ],
   "source": [
    "pipeline = Pipeline().setStages([documentAssembler, tokenizer]).fit(data)\n",
    "result = pipeline.transform(data)\n",
    "result.selectExpr(\"token.result\").show(truncate=False)"
   ]
  },
  {
   "cell_type": "code",
   "execution_count": 112,
   "id": "479ba998",
   "metadata": {},
   "outputs": [],
   "source": [
    "tokenizer = Tokenizer().setInputCols([\"document\"]).setOutputCol(\"token\") \\\n",
    "    .setSuffixPattern(\"([^\\s\\w]?)('hi|ls|'l|'ns|'t|'m|'n|-n|-en|-les|-la|-lo|-li|-los|-me|-nos|-te|-vos|-se|-hi|-ne|-ho)\\z\")\\\n",
    "    .setInfixPatterns([\"(^[\\w]*)(-nos)\"]) \\\n",
    "    .setExceptions(ex_list_all)#.fit(data)"
   ]
  },
  {
   "cell_type": "code",
   "execution_count": 113,
   "id": "5fd24970",
   "metadata": {},
   "outputs": [
    {
     "name": "stdout",
     "output_type": "stream",
     "text": [
      "+----------------------------------------------------------------------------------------------------+\n",
      "|result                                                                                              |\n",
      "+----------------------------------------------------------------------------------------------------+\n",
      "|[Dona-n'hi, tres., Dona'n, tres., Canta-les, Canta-les., Cana'ls, cançons., Anem, -nos, -en, d'aquí]|\n",
      "+----------------------------------------------------------------------------------------------------+\n",
      "\n"
     ]
    }
   ],
   "source": [
    "pipeline = Pipeline().setStages([documentAssembler, tokenizer]).fit(data)\n",
    "result = pipeline.transform(data)\n",
    "result.selectExpr(\"token.result\").show(truncate=False)"
   ]
  },
  {
   "cell_type": "code",
   "execution_count": 49,
   "id": "c8425aaa",
   "metadata": {},
   "outputs": [],
   "source": [
    "tokenizer = Tokenizer().setInputCols([\"document\"]).setOutputCol(\"token\") \\\n",
    "    .setSuffixPattern(\"([^\\w]?)('hi|-en|-nos)\\z\").setExceptions(ex_list_all).setInfixPatterns([\"(\\w*)(-nos)\"]).fit(data)"
   ]
  },
  {
   "cell_type": "code",
   "execution_count": 50,
   "id": "72cdde5a",
   "metadata": {},
   "outputs": [
    {
     "name": "stdout",
     "output_type": "stream",
     "text": [
      "+----------------------------------------------------------------------------------------------------+\n",
      "|result                                                                                              |\n",
      "+----------------------------------------------------------------------------------------------------+\n",
      "|[Dona-n'hi, tres., Dona'n, tres., Canta-les, Canta-les., Cana'ls, cançons., Anem, -nos, -en, d'aquí]|\n",
      "+----------------------------------------------------------------------------------------------------+\n",
      "\n"
     ]
    }
   ],
   "source": [
    "pipeline = Pipeline().setStages([documentAssembler, tokenizer]).fit(data)\n",
    "result = pipeline.transform(data)\n",
    "result.selectExpr(\"token.result\").show(truncate=False)"
   ]
  },
  {
   "cell_type": "raw",
   "id": "dff28c36",
   "metadata": {},
   "source": [
    "pipeline = Pipeline().setStages([documentAssembler, tokenizer]).fit(data)\n",
    "result = pipeline.transform(data)\n",
    "result.selectExpr(\"token.result\").show(truncate=False)"
   ]
  },
  {
   "cell_type": "code",
   "execution_count": 49,
   "id": "2f516751",
   "metadata": {},
   "outputs": [],
   "source": [
    "import re"
   ]
  },
  {
   "cell_type": "code",
   "execution_count": 82,
   "id": "28876ca0",
   "metadata": {},
   "outputs": [],
   "source": [
    "hores = re.compile(r\"([^\\s\\w]?)('m|'t|'l|'n|'-me|-te|-en|-la|-lo|-les|-los|-li|-ho|-m'|-t'|-n'|-l')(-en|'n|hi|ho|-ho)?(\\Z|\\W)\")"
   ]
  },
  {
   "cell_type": "code",
   "execution_count": 84,
   "id": "438283b3",
   "metadata": {},
   "outputs": [
    {
     "data": {
      "text/plain": [
       "<re.Match object; span=(5, 12), match='-li-ho,'>"
      ]
     },
     "execution_count": 84,
     "metadata": {},
     "output_type": "execute_result"
    }
   ],
   "source": [
    "re.search(hores, \"canta-li-ho,\")"
   ]
  },
  {
   "cell_type": "code",
   "execution_count": null,
   "id": "338b091a",
   "metadata": {},
   "outputs": [],
   "source": []
  }
 ],
 "metadata": {
  "kernelspec": {
   "display_name": "Python 3 (ipykernel)",
   "language": "python",
   "name": "python3"
  },
  "language_info": {
   "codemirror_mode": {
    "name": "ipython",
    "version": 3
   },
   "file_extension": ".py",
   "mimetype": "text/x-python",
   "name": "python",
   "nbconvert_exporter": "python",
   "pygments_lexer": "ipython3",
   "version": "3.8.13"
  }
 },
 "nbformat": 4,
 "nbformat_minor": 5
}
